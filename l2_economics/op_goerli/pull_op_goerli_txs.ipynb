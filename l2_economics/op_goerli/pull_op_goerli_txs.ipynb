{
 "cells": [
  {
   "cell_type": "code",
   "execution_count": null,
   "metadata": {},
   "outputs": [],
   "source": [
    "# NOTE: This uses a modified ethereum-etl here: https://github.com/MSilb7/optimism-etl\n",
    "\n",
    "import sys\n",
    "sys.path.append(\"../../helper_functions\")\n",
    "import ethereumetl_utils as eetl\n",
    "import web3py_utils as wpy\n",
    "import pandas_utils as pu\n",
    "sys.path.pop()\n",
    "\n",
    "import pandas as pd\n",
    "from dotenv import load_dotenv\n",
    "import requests\n",
    "import datetime\n",
    "load_dotenv()\n",
    "import os"
   ]
  },
  {
   "cell_type": "code",
   "execution_count": null,
   "metadata": {},
   "outputs": [],
   "source": [
    "configs = [\n",
    "        # ['base_goerli',os.environ.get('BASE_GOERLI_NODE')]\n",
    "        ['op_goerli',os.environ.get('OP_GOERLI_TEAM_NODE')]\n",
    "]\n",
    "\n",
    "max_workers = 8\n",
    "start_timestamp = pu.convert_text_timestamp_to_int('2023-05-19 00:00:00')\n",
    "end_timestamp = pu.convert_text_timestamp_to_int('2023-05-20 00:00:00')"
   ]
  },
  {
   "cell_type": "code",
   "execution_count": null,
   "metadata": {},
   "outputs": [],
   "source": [
    "# Get Transactions\n",
    "for i in configs:\n",
    "\n",
    "    folder = i[0]\n",
    "    uri = i[1]\n",
    "#     block_arr = wpy.get_blockrange_by_timedelta(i[1],trailing_hours,'hours')\n",
    "    st_bl = wpy.getBlockByTimestamp(i[1],start_timestamp)# block_arr[0]\n",
    "    en_bl = wpy.getBlockByTimestamp(i[1],end_timestamp) # block_arr[1]\n",
    "    print(st_bl)\n",
    "    print(en_bl)\n",
    "    # eetl.get_ethereum_etl(st_bl,en_bl,folder,uri, max_workers)"
   ]
  },
  {
   "cell_type": "code",
   "execution_count": null,
   "metadata": {},
   "outputs": [],
   "source": [
    "# Get Receipts\n",
    "for i in configs:\n",
    "    folder = i[0]\n",
    "    uri = i[1]\n",
    "    eetl.get_eth_etl_receipts(folder, uri)"
   ]
  },
  {
   "attachments": {},
   "cell_type": "markdown",
   "metadata": {},
   "source": [
    "### Process Results"
   ]
  },
  {
   "cell_type": "code",
   "execution_count": null,
   "metadata": {},
   "outputs": [],
   "source": [
    "opg_df = pd.read_csv(os.getcwd() + '/downloads/op_goerli/transactions.csv')\n",
    "rec_df = pd.read_csv(os.getcwd() + '/downloads/op_goerli/receipts.csv')\n",
    "rec_df = rec_df.rename(columns={'transaction_hash':'hash'})\n",
    "rec_df = rec_df[['hash','l1_gas_used','l1_fee','l1_gas_price','l1_fee_scalar']]\n",
    "\n",
    "df = opg_df.merge(rec_df,on='hash',how='left')\n",
    "#REMOVE DSEPOSITS\n",
    "df = df[df['transaction_type'] != 126]\n",
    "df['all_calldata_gas'] = df['l1_gas_used']\n",
    "df['effective_l1_gas_used'] = df['l1_fee'] / df['l1_gas_price']\n",
    "display(df)"
   ]
  }
 ],
 "metadata": {
  "kernelspec": {
   "display_name": "new-env",
   "language": "python",
   "name": "python3"
  },
  "language_info": {
   "codemirror_mode": {
    "name": "ipython",
    "version": 3
   },
   "file_extension": ".py",
   "mimetype": "text/x-python",
   "name": "python",
   "nbconvert_exporter": "python",
   "pygments_lexer": "ipython3",
   "version": "3.9.7"
  },
  "orig_nbformat": 4
 },
 "nbformat": 4,
 "nbformat_minor": 2
}
